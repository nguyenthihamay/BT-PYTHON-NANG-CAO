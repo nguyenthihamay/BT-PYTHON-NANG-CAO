{
 "cells": [
  {
   "cell_type": "code",
   "execution_count": 1,
   "metadata": {},
   "outputs": [
    {
     "name": "stdout",
     "output_type": "stream",
     "text": [
      "0     0.785508\n",
      "1     0.315168\n",
      "2     0.733191\n",
      "3     0.993520\n",
      "4     0.691412\n",
      "5     0.218950\n",
      "6     0.150262\n",
      "7     0.981738\n",
      "8     0.584871\n",
      "9     0.632917\n",
      "10    0.079182\n",
      "11    0.977323\n",
      "12    0.054355\n",
      "13    0.811847\n",
      "14    0.529733\n",
      "15    0.655182\n",
      "16    0.319078\n",
      "17    0.579563\n",
      "18    0.894849\n",
      "19    0.903333\n",
      "dtype: float64\n",
      "0     6\n",
      "1     2\n",
      "2     6\n",
      "3     9\n",
      "4     5\n",
      "5     1\n",
      "6     1\n",
      "7     9\n",
      "8     4\n",
      "9     4\n",
      "10    0\n",
      "11    8\n",
      "12    0\n",
      "13    7\n",
      "14    3\n",
      "15    5\n",
      "16    2\n",
      "17    3\n",
      "18    7\n",
      "19    8\n",
      "dtype: int64\n"
     ]
    }
   ],
   "source": [
    "import numpy as np\n",
    "import pandas as pd\n",
    "ser = pd.Series(np.random.random(20))\n",
    "print(ser)\n",
    "deciles = pd.qcut(ser, q=10, labels=False)\n",
    "print(deciles)"
   ]
  }
 ],
 "metadata": {
  "kernelspec": {
   "display_name": "Python 3",
   "language": "python",
   "name": "python3"
  },
  "language_info": {
   "codemirror_mode": {
    "name": "ipython",
    "version": 3
   },
   "file_extension": ".py",
   "mimetype": "text/x-python",
   "name": "python",
   "nbconvert_exporter": "python",
   "pygments_lexer": "ipython3",
   "version": "3.6.8"
  }
 },
 "nbformat": 4,
 "nbformat_minor": 2
}
