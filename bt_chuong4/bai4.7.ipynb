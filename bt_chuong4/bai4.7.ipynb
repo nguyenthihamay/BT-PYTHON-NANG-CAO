{
 "cells": [
  {
   "cell_type": "code",
   "execution_count": 1,
   "metadata": {},
   "outputs": [
    {
     "name": "stdout",
     "output_type": "stream",
     "text": [
      "3    4\n",
      "2    4\n",
      "dtype: int64\n",
      "0     Other\n",
      "1         3\n",
      "2     Other\n",
      "3         2\n",
      "4         3\n",
      "5         3\n",
      "6     Other\n",
      "7         3\n",
      "8         2\n",
      "9         2\n",
      "10    Other\n",
      "11        2\n",
      "dtype: object\n"
     ]
    }
   ],
   "source": [
    "import numpy as np\n",
    "import pandas as pd\n",
    "np.random.RandomState(100)\n",
    "ser = pd.Series(np.random.randint(1, 5, [12]))\n",
    "top2 = ser.value_counts().head(2)\n",
    "print(top2)\n",
    "ser = ser.where(ser.isin(top2.index), other=\"Other\")\n",
    "print(ser)"
   ]
  }
 ],
 "metadata": {
  "kernelspec": {
   "display_name": "Python 3",
   "language": "python",
   "name": "python3"
  },
  "language_info": {
   "codemirror_mode": {
    "name": "ipython",
    "version": 3
   },
   "file_extension": ".py",
   "mimetype": "text/x-python",
   "name": "python",
   "nbconvert_exporter": "python",
   "pygments_lexer": "ipython3",
   "version": "3.6.8"
  }
 },
 "nbformat": 4,
 "nbformat_minor": 2
}
