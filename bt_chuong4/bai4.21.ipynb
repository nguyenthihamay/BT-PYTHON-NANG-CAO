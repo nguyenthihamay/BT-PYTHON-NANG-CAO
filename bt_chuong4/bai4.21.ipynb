{
 "cells": [
  {
   "cell_type": "code",
   "execution_count": 1,
   "metadata": {},
   "outputs": [
    {
     "name": "stdout",
     "output_type": "stream",
     "text": [
      "<class 'pandas.core.frame.DataFrame'>\n",
      "(193, 6)\n",
      "['country', 'beer_servings', 'spirit_servings', 'wine_servings', 'total_litres_of_pure_alcohol', 'continent']\n",
      "5 dòng dữ liệu đầu tiên:\n",
      "        country  beer_servings  spirit_servings  wine_servings  \\\n",
      "0  Afghanistan              0                0              0   \n",
      "1      Albania             89              132             54   \n",
      "2      Algeria             25                0             14   \n",
      "3      Andorra            245              138            312   \n",
      "4       Angola            217               57             45   \n",
      "\n",
      "   total_litres_of_pure_alcohol continent  \n",
      "0                           0.0        AS  \n",
      "1                           4.9        EU  \n",
      "2                           0.7        AF  \n",
      "3                          12.4        EU  \n",
      "4                           5.9        AF  \n",
      "5 dòng dữ liệu cuối cùng:\n",
      "        country  beer_servings  spirit_servings  wine_servings  \\\n",
      "188  Venezuela            333              100              3   \n",
      "189    Vietnam            111                2              1   \n",
      "190      Yemen              6                0              0   \n",
      "191     Zambia             32               19              4   \n",
      "192   Zimbabwe             64               18              4   \n",
      "\n",
      "     total_litres_of_pure_alcohol continent  \n",
      "188                           7.7        SA  \n",
      "189                           2.0        AS  \n",
      "190                           0.1        AS  \n",
      "191                           2.5        AF  \n",
      "192                           4.7        AF  \n"
     ]
    }
   ],
   "source": [
    "# 1\n",
    "import pandas as pd\n",
    "drinks = pd.read_csv('drinks.csv',index_col = 0)\n",
    "# print(drinks)\n",
    "print(type(drinks))\n",
    "print(drinks.shape)\n",
    "print(drinks.columns.tolist())\n",
    "print(\"5 dòng dữ liệu đầu tiên:\\n\",drinks.head())\n",
    "print(\"5 dòng dữ liệu cuối cùng:\\n\",drinks.tail())"
   ]
  },
  {
   "cell_type": "code",
   "execution_count": null,
   "metadata": {},
   "outputs": [],
   "source": [
    "print(\"số lượng bia tiêu thụ tiêu thụ trung bình ở mỗi châu lục:\",drinks.groupby('continent')['beer_se"
   ]
  }
 ],
 "metadata": {
  "kernelspec": {
   "display_name": "Python 3",
   "language": "python",
   "name": "python3"
  },
  "language_info": {
   "codemirror_mode": {
    "name": "ipython",
    "version": 3
   },
   "file_extension": ".py",
   "mimetype": "text/x-python",
   "name": "python",
   "nbconvert_exporter": "python",
   "pygments_lexer": "ipython3",
   "version": "3.6.8"
  }
 },
 "nbformat": 4,
 "nbformat_minor": 2
}
