{
 "cells": [
  {
   "cell_type": "code",
   "execution_count": 2,
   "metadata": {},
   "outputs": [
    {
     "name": "stdout",
     "output_type": "stream",
     "text": [
      "0      8.244305\n",
      "1      3.046659\n",
      "2     13.406930\n",
      "3     13.449217\n",
      "4      6.350332\n",
      "5     13.543665\n",
      "6      5.072312\n",
      "7      0.881218\n",
      "8      6.255088\n",
      "9     12.731786\n",
      "10     8.203012\n",
      "11    16.425311\n",
      "12    13.352784\n",
      "13     9.039230\n",
      "14     8.505355\n",
      "15     8.944228\n",
      "16     6.694502\n",
      "17     4.423765\n",
      "18     8.400781\n",
      "19    13.829873\n",
      "20     4.469218\n",
      "21    19.847103\n",
      "22    15.559620\n",
      "23     5.286056\n",
      "24     7.950778\n",
      "dtype: float64\n",
      "0.8812176795190769\n"
     ]
    }
   ],
   "source": [
    "import pandas as pd\n",
    "import numpy as np\n",
    "ser = pd.Series(np.random.normal(10,5,25))\n",
    "print(ser)"
   ]
  },
  {
   "cell_type": "code",
   "execution_count": 3,
   "metadata": {},
   "outputs": [
    {
     "name": "stdout",
     "output_type": "stream",
     "text": [
      "0.8812176795190769\n"
     ]
    }
   ],
   "source": [
    "# 1\n",
    "print(ser.min())"
   ]
  },
  {
   "cell_type": "code",
   "execution_count": 4,
   "metadata": {},
   "outputs": [
    {
     "data": {
      "text/plain": [
       "6.255087742419322"
      ]
     },
     "execution_count": 4,
     "metadata": {},
     "output_type": "execute_result"
    }
   ],
   "source": [
    "# 2\n",
    "q25 = ser.quantile(q = 0.25)\n",
    "q25"
   ]
  },
  {
   "cell_type": "code",
   "execution_count": 5,
   "metadata": {},
   "outputs": [
    {
     "data": {
      "text/plain": [
       "8.40078148896807"
      ]
     },
     "execution_count": 5,
     "metadata": {},
     "output_type": "execute_result"
    }
   ],
   "source": [
    "# 3\n",
    "median_value = ser.median()\n",
    "median_value"
   ]
  },
  {
   "cell_type": "code",
   "execution_count": 6,
   "metadata": {},
   "outputs": [
    {
     "data": {
      "text/plain": [
       "13.406929988794332"
      ]
     },
     "execution_count": 6,
     "metadata": {},
     "output_type": "execute_result"
    }
   ],
   "source": [
    "# 4\n",
    "q75 = ser.quantile(q = 0.75)\n",
    "q75"
   ]
  },
  {
   "cell_type": "code",
   "execution_count": 7,
   "metadata": {},
   "outputs": [
    {
     "name": "stdout",
     "output_type": "stream",
     "text": [
      "19.847102637033636\n"
     ]
    }
   ],
   "source": [
    "# 5\n",
    "print(ser.max())"
   ]
  }
 ],
 "metadata": {
  "kernelspec": {
   "display_name": "Python 3",
   "language": "python",
   "name": "python3"
  },
  "language_info": {
   "codemirror_mode": {
    "name": "ipython",
    "version": 3
   },
   "file_extension": ".py",
   "mimetype": "text/x-python",
   "name": "python",
   "nbconvert_exporter": "python",
   "pygments_lexer": "ipython3",
   "version": "3.6.8"
  }
 },
 "nbformat": 4,
 "nbformat_minor": 2
}
