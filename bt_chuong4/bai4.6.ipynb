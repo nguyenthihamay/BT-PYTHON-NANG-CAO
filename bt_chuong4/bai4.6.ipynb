{
 "cells": [
  {
   "cell_type": "code",
   "execution_count": 1,
   "metadata": {},
   "outputs": [
    {
     "data": {
      "text/plain": [
       "0     e\n",
       "1     a\n",
       "2     d\n",
       "3     h\n",
       "4     e\n",
       "5     c\n",
       "6     a\n",
       "7     c\n",
       "8     c\n",
       "9     a\n",
       "10    b\n",
       "11    c\n",
       "12    c\n",
       "13    e\n",
       "14    g\n",
       "15    a\n",
       "16    a\n",
       "17    h\n",
       "18    e\n",
       "19    b\n",
       "20    a\n",
       "21    h\n",
       "22    e\n",
       "23    a\n",
       "24    g\n",
       "25    c\n",
       "26    f\n",
       "27    h\n",
       "28    g\n",
       "29    f\n",
       "dtype: object"
      ]
     },
     "execution_count": 1,
     "metadata": {},
     "output_type": "execute_result"
    }
   ],
   "source": [
    "# 1\n",
    "import pandas as pd\n",
    "import numpy as np\n",
    "ser = pd.Series(np.take(list(\"abcdefgh\"), np.random.randint(8, size=30)))\n",
    "ser"
   ]
  },
  {
   "cell_type": "code",
   "execution_count": 2,
   "metadata": {},
   "outputs": [
    {
     "name": "stdout",
     "output_type": "stream",
     "text": [
      "a    7\n",
      "c    6\n",
      "e    5\n",
      "h    4\n",
      "g    3\n",
      "b    2\n",
      "f    2\n",
      "d    1\n",
      "dtype: int64\n"
     ]
    }
   ],
   "source": [
    "# 2\n",
    "counts = ser.value_counts()\n",
    "print(counts)"
   ]
  }
 ],
 "metadata": {
  "kernelspec": {
   "display_name": "Python 3",
   "language": "python",
   "name": "python3"
  },
  "language_info": {
   "codemirror_mode": {
    "name": "ipython",
    "version": 3
   },
   "file_extension": ".py",
   "mimetype": "text/x-python",
   "name": "python",
   "nbconvert_exporter": "python",
   "pygments_lexer": "ipython3",
   "version": "3.6.8"
  }
 },
 "nbformat": 4,
 "nbformat_minor": 2
}
