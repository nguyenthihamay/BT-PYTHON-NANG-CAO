{
 "cells": [
  {
   "cell_type": "code",
   "execution_count": null,
   "metadata": {},
   "outputs": [],
   "source": [
    "import numpy as np\n",
    "#1\n",
    "with open(r'd:\\python nâng cao\\chuong_3\\baitap_c3\\baseball_2D.txt','r',encoding='utf-8-sig') as f:\n",
    "    a= f.readlines()\n",
    "    a = a[0]\n",
    "    a = a.replace('[',' ')\n",
    "    a = a.replace(']',' ')\n",
    "    a= list(map(lambda x:int(x),a.split(',')))\n",
    "np_baseball =  np.array(a).reshape((1015,2))\n",
    "print(type(np_baseball))\n",
    "#2\n",
    "print(np_baseball[49,:])\n",
    "#3\n",
    "np_weight = np.array([np_baseball[:,1]])\n",
    "print(np_weight)\n",
    "#4\n",
    "print(np_baseball[123][0])\n",
    "#5\n",
    "print('chiều cao trung bình:',np.sum(np_baseball[:,0])/np_baseball.size)\n",
    "print('cân nặng trung bình:',np.sum(np_baseball[:,1])/np_baseball.size)\n",
    "# 6. Bạn nhận xét gì về mối tương quan giữa chiều cao và cân nặng của các cầu thủ: có/không có tương quan, tương quan thuận/nghịch.\n",
    "correlation = np.corrcoef(np_baseball[:,0],np_baseball[:,1])[0, 1]\n",
    "if correlation > 0:\n",
    "    correlation_type = \"tương quan thuận\"\n",
    "elif correlation < 0:\n",
    "    correlation_type = \"tương quan nghịch\"\n",
    "else:\n",
    "    correlation_type = \"không có tương quan\"\n",
    "print(correlation_type)"
   ]
  }
 ],
 "metadata": {
  "language_info": {
   "name": "python"
  }
 },
 "nbformat": 4,
 "nbformat_minor": 2
}
