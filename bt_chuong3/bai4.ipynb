{
 "cells": [
  {
   "cell_type": "code",
   "execution_count": null,
   "metadata": {},
   "outputs": [],
   "source": [
    "import numpy as np\n",
    "#1\n",
    "arr_zeros = np.zeros(10,dtype = int)\n",
    "arr_zeros[4] = 1\n",
    "print(arr_zeros)\n",
    "#2\n",
    "arr_h = np.arange(10,25)\n",
    "print(arr_h[::-1])\n",
    "#3\n",
    "arr_k = np.array([1, 2, 0, 8, 2, 0, 1, 3, 0, 5, 0])\n",
    "arr_l = np.array([i for i in arr_k if i!=0])\n",
    "print(arr_l)\n",
    "#4\n",
    "arr_l = np.append(arr_l,10)\n",
    "arr_l = np.append(arr_l,20)\n",
    "print(arr_l)\n",
    "#5\n",
    "arr_l = np.insert(arr_l,5,100)\n",
    "print(arr_l)\n",
    "#6\n",
    "arr_l = np.delete(arr_l,[0,1,2])\n",
    "print(arr_l)"
   ]
  }
 ],
 "metadata": {
  "language_info": {
   "name": "python"
  }
 },
 "nbformat": 4,
 "nbformat_minor": 2
}
