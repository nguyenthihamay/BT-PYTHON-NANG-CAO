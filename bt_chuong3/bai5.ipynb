{
 "cells": [
  {
   "cell_type": "code",
   "execution_count": null,
   "metadata": {},
   "outputs": [],
   "source": [
    "import numpy as np\n",
    "\n",
    "with open(r'd:\\python nâng cao\\chuong_3\\baitap_c3\\heights_1.txt','r',encoding='utf-8-sig') as f:\n",
    "    height =f.readlines()\n",
    "    height = list(height[0].split(','))\n",
    "    list_height=list(map(lambda x:float(x),height))\n",
    "print(list_height)\n",
    "with open(r'd:\\python nâng cao\\chuong_3\\baitap_c3\\weights_1.txt','r',encoding='utf-8-sig') as f:\n",
    "    weight =f.readlines()\n",
    "    weight = list(weight[0].split(','))\n",
    "    list_weight=list(map(lambda x:float(x),weight))\n",
    "#1\n",
    "arr_height = np.array(list_height)\n",
    "#2\n",
    "arr_weight = np.array(list_weight)\n",
    "#3\n",
    "arr_height_m = np.array([i *0.0254 for i in arr_height])\n",
    "#4\n",
    "arr_weight_kg  =np.array([i* 0.453592 for i in arr_weight])\n",
    "#5\n",
    "arr_BMI = np.array([])\n",
    "for i in range(0,len(arr_height)):\n",
    "    arr_BMI = np.append(arr_BMI,arr_weight_kg[i]/(arr_height_m[i]*arr_height_m[i]))\n",
    "#6\n",
    "print(arr_weight_kg[50])\n",
    "#7\n",
    "arr_height_m_100 = arr_height_m[100:111]\n",
    "#8\n",
    "bmi_less_than_21 = arr_BMI[arr_BMI<21]\n",
    "print(\"Các cầu thủ có BMI < 21:\", bmi_less_than_21)\n",
    "#9\n",
    "average_height = np.sum(arr_height_m)/arr_height_m.size\n",
    "print(\"chiều cao trung bình:\",average_height)\n",
    "average_weight = np.sum(arr_weight_kg)/arr_weight_kg.size\n",
    "print(\"cân nặng trung bình\",average_weight)\n",
    "#10\n",
    "max_height = np.sort(arr_height_m)[-1]\n",
    "print(\"chiều cao lớn nhất\",max_height)\n",
    "max_weight = np.sort(arr_weight_kg)[-1]\n",
    "print(\"cân nạng cao nhất\",max_weight)\n",
    "#11\n",
    "min_height = np.sort(arr_height_m)[0]\n",
    "print(\"chiều cao nhỏ nhất\",min_height)\n",
    "min_weight = np.sort(arr_weight_kg)[0]\n",
    "print(\"cân nạng nhỏ nhất\",min_weight)"
   ]
  }
 ],
 "metadata": {
  "language_info": {
   "name": "python"
  }
 },
 "nbformat": 4,
 "nbformat_minor": 2
}
