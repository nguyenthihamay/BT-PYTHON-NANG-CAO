{
 "cells": [
  {
   "cell_type": "code",
   "execution_count": null,
   "metadata": {},
   "outputs": [],
   "source": [
    "import numpy as np\n",
    "with open(r'd:\\python nâng cao\\chuong_3\\baitap_c3\\heights.txt','r',encoding='utf-8-sig') as f:\n",
    "    read = f.readlines()\n",
    "    heights = list(map(lambda x:float(x),read[0].split(',')))\n",
    "with open(r'd:\\python nâng cao\\chuong_3\\baitap_c3\\positions.txt','r',encoding='utf-8-sig') as f:\n",
    "    read = f.readlines()\n",
    "    positions = read[0].split(',')\n",
    "#1\n",
    "#a\n",
    "np_positions = np.array(positions)\n",
    "print(np_positions.dtype)\n",
    "print(type(np_positions))\n",
    "#b\n",
    "np_heights = np.array(heights)\n",
    "print(np_heights.dtype)\n",
    "print(type(np_heights))\n",
    "#2\n",
    "mean_gk=np_heights[np_positions == 'GK']\n",
    "print('chiều cao trung bình gk:',np.mean(mean_gk))\n",
    "#3\n",
    "other_heights = np_heights[np_positions != 'GK']\n",
    "print('chiều cao trung bình vị trí khác',np.mean(other_heights))\n",
    "#4\n",
    "players = np.zeros(len(np_positions), dtype={'names':('position', 'height'), 'formats':('U5', 'f8')})\n",
    "players['position'] = np_positions\n",
    "players['height'] = np_heights\n",
    "print(players)\n",
    "#5\n",
    "sorted_players =np.sort(players,order='height')\n",
    "print(sorted_players)\n",
    "print('vị trí có chiều cao cao nhất',sorted_players[-1])\n",
    "print('vị trí có chiều cao thấp nhất',sorted_players[0])"
   ]
  }
 ],
 "metadata": {
  "language_info": {
   "name": "python"
  }
 },
 "nbformat": 4,
 "nbformat_minor": 2
}
