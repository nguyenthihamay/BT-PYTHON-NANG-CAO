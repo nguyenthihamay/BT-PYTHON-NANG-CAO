{
 "cells": [
  {
   "cell_type": "code",
   "execution_count": null,
   "metadata": {},
   "outputs": [],
   "source": [
    "import numpy as np\n",
    "#1\n",
    "numpy_array = np.arange(10)\n",
    "print(numpy_array)\n",
    "print('kieu du lieu:',numpy_array.dtype)\n",
    "print('do dai arr:',len(numpy_array))\n",
    "print('do dai arr:',numpy_array.size)\n",
    "#2\n",
    "arr_odd = numpy_array[1::2]\n",
    "arr_even = numpy_array[0::2]\n",
    "arr_odd = numpy_array[numpy_array%2==1]\n",
    "arr_even = numpy_array[numpy_array%2==0]\n",
    "print(arr_odd)\n",
    "print(arr_even)\n",
    "#3\n",
    "arr_update_1 = []\n",
    "for i in numpy_array:\n",
    "    if i in arr_odd:\n",
    "        i = 100\n",
    "    arr_update_1.append(i)\n",
    "arr_update_1 = np.array(arr_update_1)\n",
    "print(arr_update_1)"
   ]
  }
 ],
 "metadata": {
  "language_info": {
   "name": "python"
  }
 },
 "nbformat": 4,
 "nbformat_minor": 2
}
